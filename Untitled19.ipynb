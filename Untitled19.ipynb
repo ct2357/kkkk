{
 "cells": [
  {
   "cell_type": "code",
   "execution_count": 81,
   "metadata": {},
   "outputs": [],
   "source": [
    "import numpy as np\n",
    "import scipy.stats as si\n",
    "from datetime import date\n"
   ]
  },
  {
   "cell_type": "code",
   "execution_count": 10,
   "metadata": {},
   "outputs": [],
   "source": [
    "def KIPut(S, K, T, r, sigma, B):\n",
    "    k_ = r/(1/2*sigma**2)\n",
    "    alpha = 1/2 * (1-k_)\n",
    "    put = euro_vanilla_put(S, K, T, r, sigma)\n",
    "    smallpart1 = (S/B)**(2*alpha)*(euro_vanilla_put(B**2/S, K, T, r, sigma) - euro_vanilla_put(B**2/S, B, T, r, sigma)+(K-B)*digital_put(B**2/S, B, T, r, sigma))\n",
    "    KOput = euro_vanilla_put(S, K, T, r, sigma) - euro_vanilla_put(S, B, T, r, sigma) - (K-B)*digital_put(S, B, T, r, sigma) - smallpart1\n",
    "    return put-KOput"
   ]
  },
  {
   "cell_type": "code",
   "execution_count": 11,
   "metadata": {},
   "outputs": [],
   "source": [
    "def euro_vanilla_put(S, K, T, r, sigma):\n",
    "    \n",
    "    #S: spot price\n",
    "    #K: strike price\n",
    "    #T: time to maturity\n",
    "    #r: interest rate\n",
    "    #sigma: volatility of underlying asset\n",
    "    \n",
    "    d1 = (np.log(S / K) + (r + 0.5 * sigma ** 2) * T) / (sigma * np.sqrt(T))\n",
    "    d2 = (np.log(S / K) + (r - 0.5 * sigma ** 2) * T) / (sigma * np.sqrt(T))\n",
    "    \n",
    "    put = (K * np.exp(-r * T) * si.norm.cdf(-d2, 0.0, 1.0) - S * si.norm.cdf(-d1, 0.0, 1.0))\n",
    "    \n",
    "    return put"
   ]
  },
  {
   "cell_type": "code",
   "execution_count": 12,
   "metadata": {},
   "outputs": [],
   "source": [
    "def digital_put(S, K, T, r, sigma):\n",
    "    d2 = (np.log(S / K) + (r - 0.5 * sigma ** 2) * T) / (sigma * np.sqrt(T))\n",
    "    put = np.exp(-r * T) * si.norm.cdf(-d2, 0.0, 1.0)\n",
    "    return put"
   ]
  },
  {
   "cell_type": "code",
   "execution_count": 27,
   "metadata": {},
   "outputs": [
    {
     "data": {
      "text/plain": [
       "0.17693672624187862"
      ]
     },
     "execution_count": 27,
     "metadata": {},
     "output_type": "execute_result"
    }
   ],
   "source": [
    "KIPut(1, 1, 5, 0, 0.2, 1)"
   ]
  },
  {
   "cell_type": "code",
   "execution_count": 15,
   "metadata": {},
   "outputs": [
    {
     "data": {
      "text/plain": [
       "0.17693672624187862"
      ]
     },
     "execution_count": 15,
     "metadata": {},
     "output_type": "execute_result"
    }
   ],
   "source": [
    " euro_vanilla_put(1, 1, 5, 0, 0.2)"
   ]
  },
  {
   "cell_type": "code",
   "execution_count": 28,
   "metadata": {},
   "outputs": [],
   "source": [
    "def KOPut(S, K, T, r, sigma, B):\n",
    "    k_ = r/(1/2*sigma**2)\n",
    "    alpha = 1/2 * (1-k_)\n",
    "    put = euro_vanilla_put(S, K, T, r, sigma)\n",
    "    smallpart1 = (S/B)**(2*alpha)*(euro_vanilla_put(B**2/S, K, T, r, sigma) - euro_vanilla_put(B**2/S, B, T, r, sigma)+(K-B)*digital_put(B**2/S, B, T, r, sigma))\n",
    "    KOput = euro_vanilla_put(S, K, T, r, sigma) - euro_vanilla_put(S, B, T, r, sigma) - (K-B)*digital_put(S, B, T, r, sigma) - smallpart1\n",
    "    return KOput"
   ]
  },
  {
   "cell_type": "code",
   "execution_count": 41,
   "metadata": {},
   "outputs": [
    {
     "data": {
      "text/plain": [
       "-199997.82306327374"
      ]
     },
     "execution_count": 41,
     "metadata": {},
     "output_type": "execute_result"
    }
   ],
   "source": [
    "KOPut(1, 1, 5, 0, 0.2, 0.00001)"
   ]
  },
  {
   "cell_type": "code",
   "execution_count": 42,
   "metadata": {},
   "outputs": [],
   "source": [
    "def DICall (S, K, T, r, sigma, H):\n",
    "    x = (np.log( H**2/ (S*K)) + (r + 0.5 * sigma ** 2) * T) / (sigma * np.sqrt(T))\n",
    "    lamda = (r + 0.5 * sigma ** 2)/ (sigma**2)\n",
    "    return S * (H/S)**(2*lamda)* si.norm.cdf(x, 0.0, 1.0)- K *np.exp(-r*T)*(H/S)**(2*lamda-2)* si.norm.cdf(x-sigma*np.sqrt(T), 0.0, 1.0)"
   ]
  },
  {
   "cell_type": "code",
   "execution_count": 80,
   "metadata": {},
   "outputs": [
    {
     "data": {
      "text/plain": [
       "(0.1670708928498853, 0.17693672624187862)"
      ]
     },
     "execution_count": 80,
     "metadata": {},
     "output_type": "execute_result"
    }
   ],
   "source": [
    "DICall (1, 1, 5, 0,0.2, 0.99),DICall (1, 1, 5, 0, 0.2, 1)"
   ]
  },
  {
   "cell_type": "code",
   "execution_count": 45,
   "metadata": {},
   "outputs": [
    {
     "data": {
      "text/plain": [
       "0.17693672624187862"
      ]
     },
     "execution_count": 45,
     "metadata": {},
     "output_type": "execute_result"
    }
   ],
   "source": [
    "euro_vanilla_call(1, 1, 5, 0, 0.2)"
   ]
  },
  {
   "cell_type": "code",
   "execution_count": null,
   "metadata": {},
   "outputs": [],
   "source": []
  },
  {
   "cell_type": "code",
   "execution_count": 44,
   "metadata": {},
   "outputs": [],
   "source": [
    "def euro_vanilla_call(S, K, T, r, sigma):\n",
    "    \n",
    "    #S: spot price\n",
    "    #K: strike price\n",
    "    #T: time to maturity\n",
    "    #r: interest rate\n",
    "    #sigma: volatility of underlying asset\n",
    "    \n",
    "    d1 = (np.log(S / K) + (r + 0.5 * sigma ** 2) * T) / (sigma * np.sqrt(T))\n",
    "    d2 = (np.log(S / K) + (r - 0.5 * sigma ** 2) * T) / (sigma * np.sqrt(T))\n",
    "    \n",
    "    call = (S * si.norm.cdf(d1, 0.0, 1.0) - K * np.exp(-r * T) * si.norm.cdf(d2, 0.0, 1.0))\n",
    "    \n",
    "    return call"
   ]
  },
  {
   "cell_type": "code",
   "execution_count": 87,
   "metadata": {},
   "outputs": [
    {
     "data": {
      "text/plain": [
       "0.046079664623653205"
      ]
     },
     "execution_count": 87,
     "metadata": {},
     "output_type": "execute_result"
    }
   ],
   "source": [
    "DICall (1, 1, 78/365, 0, 0.25, 1)"
   ]
  },
  {
   "cell_type": "code",
   "execution_count": 109,
   "metadata": {},
   "outputs": [
    {
     "data": {
      "text/plain": [
       "0.037928449434221856"
      ]
     },
     "execution_count": 109,
     "metadata": {},
     "output_type": "execute_result"
    }
   ],
   "source": [
    "euro_vanilla_call(1, 1, 53/365, 0, 0.24959)"
   ]
  },
  {
   "cell_type": "code",
   "execution_count": 83,
   "metadata": {},
   "outputs": [
    {
     "data": {
      "text/plain": [
       "78"
      ]
     },
     "execution_count": 83,
     "metadata": {},
     "output_type": "execute_result"
    }
   ],
   "source": [
    "d0 = date(2021, 8, 26)\n",
    "d1 = date(2021, 11, 12)\n",
    "delta = d1 - d0\n",
    "delta.days"
   ]
  },
  {
   "cell_type": "code",
   "execution_count": 104,
   "metadata": {},
   "outputs": [
    {
     "data": {
      "text/plain": [
       "-56"
      ]
     },
     "execution_count": 104,
     "metadata": {},
     "output_type": "execute_result"
    }
   ],
   "source": [
    "np.busday_count( d1,d0 )"
   ]
  },
  {
   "cell_type": "code",
   "execution_count": null,
   "metadata": {},
   "outputs": [],
   "source": []
  }
 ],
 "metadata": {
  "kernelspec": {
   "display_name": "Python 3",
   "language": "python",
   "name": "python3"
  },
  "language_info": {
   "codemirror_mode": {
    "name": "ipython",
    "version": 3
   },
   "file_extension": ".py",
   "mimetype": "text/x-python",
   "name": "python",
   "nbconvert_exporter": "python",
   "pygments_lexer": "ipython3",
   "version": "3.8.5"
  }
 },
 "nbformat": 4,
 "nbformat_minor": 4
}
